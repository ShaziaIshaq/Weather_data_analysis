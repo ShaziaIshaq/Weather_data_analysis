{
 "cells": [
  {
   "cell_type": "code",
   "execution_count": 1,
   "id": "c0480bbb",
   "metadata": {
    "ExecuteTime": {
     "end_time": "2024-01-24T12:00:23.061125800Z",
     "start_time": "2024-01-24T12:00:22.990372500Z"
    }
   },
   "outputs": [],
   "source": [
    "def analyze_weather_data(data, analysis_type):\n",
    "    if not isinstance(data, list):\n",
    "        raise TypeError(\"The data parameter must be a list!\")\n",
    "    if not isinstance(analysis_type, str):\n",
    "        raise TypeError(\"the analysis_type must be a string!\")\n",
    "    if analysis_type not in [\"avg\",\"max\",\"min\",\"trend\"]:\n",
    "        raise ValueError(\"The analysis_type must be one of given list!\")\n",
    "    if not data:\n",
    "        raise ValueError(\"The data parameter must not be empty!\")\n",
    "    #Check if all dictionaries must have these keys\n",
    "    required_keys = {\"date\", \"temperature\",\"humidity\",\"wind_speed\"}\n",
    "    for items in data:\n",
    "        if not all (key in items for key in required_keys):\n",
    "            raise ValueError(\"The data parameter must contain all reuired_keys!\") \n",
    "            \n",
    "    if analysis_type == \"avg\":\n",
    "        t_avg=[d.get(\"temperature\") for d in data]\n",
    "        return print('average is' + str(sum(t_avg)/len(t_avg)))\n",
    "    elif analysis_type == \"max\":\n",
    "        max_t_day = max(data, key=lambda x: x['temperature'])\n",
    "        return {\"max_temperature_date\": max_t_day['date']}\n",
    "    elif analysis_type == \"min\":\n",
    "        min_t_day = min(data, key=lambda x: x['temperature'])\n",
    "        return {\"min_temperature_date\": max_t_day['date']}\n",
    "    \n",
    "\n"
   ]
  },
  {
   "cell_type": "code",
   "execution_count": 25,
   "id": "6be54d4e",
   "metadata": {},
   "outputs": [],
   "source": [
    "data=[{'date': '2024-01-24', 'temperature': 25, 'humidity': 60, 'wind_speed': 10},\n",
    "    {'date': '2024-01-25', 'temperature': 28, 'humidity': 55, 'wind_speed': 12},\n",
    "    {'date': '2024-01-26', 'temperature': 22, 'humidity': 70, 'wind_speed': 8},]"
   ]
  },
  {
   "cell_type": "code",
   "execution_count": 26,
   "id": "95b20377",
   "metadata": {},
   "outputs": [
    {
     "name": "stdout",
     "output_type": "stream",
     "text": [
      "average is25.0\n"
     ]
    }
   ],
   "source": [
    "analyze_weather_data(data, 'avg')"
   ]
  },
  {
   "cell_type": "code",
   "execution_count": 27,
   "id": "d0d2e551",
   "metadata": {},
   "outputs": [
    {
     "data": {
      "text/plain": [
       "{'max_temperature_date': '2024-01-25'}"
      ]
     },
     "execution_count": 27,
     "metadata": {},
     "output_type": "execute_result"
    }
   ],
   "source": [
    "analyze_weather_data(data, 'max')"
   ]
  },
  {
   "cell_type": "code",
   "execution_count": null,
   "id": "6e49cd35",
   "metadata": {},
   "outputs": [],
   "source": []
  }
 ],
 "metadata": {
  "kernelspec": {
   "display_name": "Python 3 (ipykernel)",
   "language": "python",
   "name": "python3"
  },
  "language_info": {
   "codemirror_mode": {
    "name": "ipython",
    "version": 3
   },
   "file_extension": ".py",
   "mimetype": "text/x-python",
   "name": "python",
   "nbconvert_exporter": "python",
   "pygments_lexer": "ipython3",
   "version": "3.11.5"
  }
 },
 "nbformat": 4,
 "nbformat_minor": 5
}
